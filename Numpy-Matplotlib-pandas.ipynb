{
 "cells": [
  {
   "cell_type": "markdown",
   "id": "42e9c9f7",
   "metadata": {},
   "source": [
    "Numpy is an extenstion to an python programming language.add support for large,multi dimenstional arrays and matrices along with an large library of high level mathematics functions to operate on these arrays"
   ]
  },
  {
   "cell_type": "markdown",
   "id": "b9044c3f",
   "metadata": {},
   "source": [
    "# Numpy"
   ]
  },
  {
   "cell_type": "code",
   "execution_count": 2,
   "id": "ea2ea388",
   "metadata": {},
   "outputs": [],
   "source": [
    "import numpy as np\n",
    "a=[1,2,3,4,5]\n",
    "x=np.array(a)"
   ]
  },
  {
   "cell_type": "code",
   "execution_count": 9,
   "id": "52e7cdb3",
   "metadata": {},
   "outputs": [
    {
     "name": "stdout",
     "output_type": "stream",
     "text": [
      "[1 2 3 4 5 6 7 8 9]\n"
     ]
    }
   ],
   "source": [
    "print(x)"
   ]
  },
  {
   "cell_type": "code",
   "execution_count": 4,
   "id": "621bbe41",
   "metadata": {},
   "outputs": [],
   "source": [
    "x=x*2\n"
   ]
  },
  {
   "cell_type": "code",
   "execution_count": 5,
   "id": "8d65d02b",
   "metadata": {},
   "outputs": [
    {
     "name": "stdout",
     "output_type": "stream",
     "text": [
      "[ 2  4  6  8 10]\n"
     ]
    }
   ],
   "source": [
    "print(x)"
   ]
  },
  {
   "cell_type": "code",
   "execution_count": 7,
   "id": "55523fca",
   "metadata": {},
   "outputs": [],
   "source": [
    "x= np.arange(1,10)"
   ]
  },
  {
   "cell_type": "code",
   "execution_count": 10,
   "id": "2b159e73",
   "metadata": {},
   "outputs": [],
   "source": [
    "x=np.arange(1,10,2)"
   ]
  },
  {
   "cell_type": "code",
   "execution_count": 11,
   "id": "03342b7f",
   "metadata": {},
   "outputs": [
    {
     "name": "stdout",
     "output_type": "stream",
     "text": [
      "[1 3 5 7 9]\n"
     ]
    }
   ],
   "source": [
    "print(x)"
   ]
  },
  {
   "cell_type": "code",
   "execution_count": 14,
   "id": "996c19bf",
   "metadata": {},
   "outputs": [
    {
     "data": {
      "text/plain": [
       "array([[1, 2],\n",
       "       [3, 4]])"
      ]
     },
     "execution_count": 14,
     "metadata": {},
     "output_type": "execute_result"
    }
   ],
   "source": [
    "d=np.array([[1,2],[3,4]])\n",
    "d"
   ]
  },
  {
   "cell_type": "code",
   "execution_count": 15,
   "id": "ce03fe9e",
   "metadata": {},
   "outputs": [
    {
     "name": "stdout",
     "output_type": "stream",
     "text": [
      "[[1 2]\n",
      " [3 4]]\n"
     ]
    }
   ],
   "source": [
    "print(d)"
   ]
  },
  {
   "cell_type": "code",
   "execution_count": 16,
   "id": "c78c9dee",
   "metadata": {},
   "outputs": [
    {
     "data": {
      "text/plain": [
       "2"
      ]
     },
     "execution_count": 16,
     "metadata": {},
     "output_type": "execute_result"
    }
   ],
   "source": [
    "d.ndim"
   ]
  },
  {
   "cell_type": "code",
   "execution_count": 17,
   "id": "579f9b8d",
   "metadata": {},
   "outputs": [
    {
     "data": {
      "text/plain": [
       "(2, 2)"
      ]
     },
     "execution_count": 17,
     "metadata": {},
     "output_type": "execute_result"
    }
   ],
   "source": [
    "d.shape"
   ]
  },
  {
   "cell_type": "code",
   "execution_count": 18,
   "id": "d8523cb9",
   "metadata": {},
   "outputs": [
    {
     "data": {
      "text/plain": [
       "(2, 2)"
      ]
     },
     "execution_count": 18,
     "metadata": {},
     "output_type": "execute_result"
    }
   ],
   "source": [
    "np.shape(d)"
   ]
  },
  {
   "cell_type": "code",
   "execution_count": 19,
   "id": "4f0c76bb",
   "metadata": {},
   "outputs": [
    {
     "data": {
      "text/plain": [
       "array([3, 4])"
      ]
     },
     "execution_count": 19,
     "metadata": {},
     "output_type": "execute_result"
    }
   ],
   "source": [
    "##acessing\n",
    "d[1]"
   ]
  },
  {
   "cell_type": "code",
   "execution_count": 20,
   "id": "5b387b98",
   "metadata": {},
   "outputs": [
    {
     "data": {
      "text/plain": [
       "4"
      ]
     },
     "execution_count": 20,
     "metadata": {},
     "output_type": "execute_result"
    }
   ],
   "source": [
    "d[1][1]"
   ]
  },
  {
   "cell_type": "code",
   "execution_count": 25,
   "id": "f3e9b3fd",
   "metadata": {},
   "outputs": [],
   "source": [
    "###genrating random number\n",
    "\n",
    "\n",
    "r=np.random.rand(10,5)"
   ]
  },
  {
   "cell_type": "code",
   "execution_count": 22,
   "id": "d1140c17",
   "metadata": {},
   "outputs": [
    {
     "data": {
      "text/plain": [
       "array([0.4463214 , 0.26689416, 0.18134776, 0.18641812, 0.45910554,\n",
       "       0.48388047, 0.05763181, 0.50043715, 0.05863513, 0.90059468])"
      ]
     },
     "execution_count": 22,
     "metadata": {},
     "output_type": "execute_result"
    }
   ],
   "source": [
    "r"
   ]
  },
  {
   "cell_type": "code",
   "execution_count": 26,
   "id": "8a535374",
   "metadata": {},
   "outputs": [
    {
     "data": {
      "text/plain": [
       "array([[0.07278967, 0.47328981, 0.50500248, 0.01845733, 0.87921889],\n",
       "       [0.31886731, 0.24759772, 0.35607669, 0.65063675, 0.07577059],\n",
       "       [0.23936064, 0.03390418, 0.88461094, 0.3341456 , 0.6144195 ],\n",
       "       [0.63889868, 0.94178049, 0.57179507, 0.07818624, 0.18468284],\n",
       "       [0.9833863 , 0.98228407, 0.66691604, 0.64000507, 0.10138954],\n",
       "       [0.98947873, 0.55917529, 0.28710956, 0.12455593, 0.66242233],\n",
       "       [0.51531881, 0.56646548, 0.10378238, 0.70667728, 0.16213508],\n",
       "       [0.77524918, 0.50270945, 0.78073962, 0.29239245, 0.7268965 ],\n",
       "       [0.72580799, 0.56155106, 0.23890852, 0.52352453, 0.12476393],\n",
       "       [0.92501166, 0.43808154, 0.25320676, 0.50809855, 0.73074473]])"
      ]
     },
     "execution_count": 26,
     "metadata": {},
     "output_type": "execute_result"
    }
   ],
   "source": [
    "r"
   ]
  },
  {
   "cell_type": "markdown",
   "id": "0bc818dd",
   "metadata": {},
   "source": [
    "# Matplotlib"
   ]
  },
  {
   "cell_type": "code",
   "execution_count": 27,
   "id": "10dd27a9",
   "metadata": {},
   "outputs": [],
   "source": [
    "import matplotlib.pyplot as plt"
   ]
  },
  {
   "cell_type": "code",
   "execution_count": 33,
   "id": "fecaaa57",
   "metadata": {},
   "outputs": [
    {
     "data": {
      "image/png": "[encoded data removed]",
      "text/plain": [
       "<Figure size 432x288 with 1 Axes>"
      ]
     },
     "metadata": {
      "needs_background": "light"
     },
     "output_type": "display_data"
    }
   ],
   "source": [
    "k= [1,25,30,50,90]\n",
    "plt.plot(k)\n",
    "plt.ylabel('Y axis')\n",
    "plt.xlabel('X axis')\n",
    "plt.show()"
   ]
  },
  {
   "cell_type": "code",
   "execution_count": 40,
   "id": "6b714142",
   "metadata": {},
   "outputs": [
    {
     "data": {
      "image/png": "[encoded data removed]",
      "text/plain": [
       "<Figure size 432x288 with 1 Axes>"
      ]
     },
     "metadata": {
      "needs_background": "light"
     },
     "output_type": "display_data"
    }
   ],
   "source": [
    "plt.plot([1,2,3,4,4.3,5],[2,5,3,10,15,17])\n",
    "plt.axis([1,5,1,20])\n",
    "plt.xlabel('X Axis')\n",
    "plt.ylabel('Y Axis')\n",
    "plt.show()"
   ]
  },
  {
   "cell_type": "code",
   "execution_count": 41,
   "id": "4d40c47f",
   "metadata": {},
   "outputs": [
    {
     "data": {
      "image/png": "[encoded data removed]",
      "text/plain": [
       "<Figure size 432x288 with 1 Axes>"
      ]
     },
     "metadata": {
      "needs_background": "light"
     },
     "output_type": "display_data"
    }
   ],
   "source": [
    "plt.plot([1,2,3,4,4.3,5],[2,5,3,10,15,17],'r')\n",
    "plt.axis([1,5,1,20])\n",
    "plt.xlabel('X Axis')\n",
    "plt.ylabel('Y Axis')\n",
    "plt.show()"
   ]
  },
  {
   "cell_type": "code",
   "execution_count": 42,
   "id": "0ec5e7af",
   "metadata": {},
   "outputs": [
    {
     "data": {
      "image/png": "[encoded data removed]",
      "text/plain": [
       "<Figure size 432x288 with 1 Axes>"
      ]
     },
     "metadata": {
      "needs_background": "light"
     },
     "output_type": "display_data"
    }
   ],
   "source": [
    "plt.plot([1,2,3,4,4.3,5],[2,5,3,10,15,17],'ro')\n",
    "plt.axis([1,5,1,20])\n",
    "plt.xlabel('X Axis')\n",
    "plt.ylabel('Y Axis')\n",
    "plt.show()"
   ]
  },
  {
   "cell_type": "code",
   "execution_count": 43,
   "id": "31620e7b",
   "metadata": {},
   "outputs": [
    {
     "data": {
      "image/png": "[encoded data removed]",
      "text/plain": [
       "<Figure size 432x288 with 1 Axes>"
      ]
     },
     "metadata": {
      "needs_background": "light"
     },
     "output_type": "display_data"
    }
   ],
   "source": [
    "plt.plot([1,2,3,4,4.3,5],[2,5,3,10,15,17],'r^')\n",
    "plt.axis([1,5,1,20])\n",
    "plt.xlabel('X Axis')\n",
    "plt.ylabel('Y Axis')\n",
    "plt.show()"
   ]
  },
  {
   "cell_type": "code",
   "execution_count": 45,
   "id": "cab33865",
   "metadata": {},
   "outputs": [
    {
     "data": {
      "image/png": "[encoded data removed]",
      "text/plain": [
       "<Figure size 432x288 with 1 Axes>"
      ]
     },
     "metadata": {
      "needs_background": "light"
     },
     "output_type": "display_data"
    }
   ],
   "source": [
    "plt.plot([1,2,3,4,4.3,5],[2,5,3,10,15,17],'g*')\n",
    "plt.axis([1,5,1,20])\n",
    "plt.xlabel('X Axis')\n",
    "plt.ylabel('Y Axis')\n",
    "plt.show()"
   ]
  },
  {
   "cell_type": "markdown",
   "id": "14510445",
   "metadata": {},
   "source": [
    "# Pandas"
   ]
  },
  {
   "cell_type": "code",
   "execution_count": 61,
   "id": "199350bf",
   "metadata": {},
   "outputs": [],
   "source": [
    "import pandas as pd\n",
    "import numpy as np\n",
    "df=pd.DataFrame(np.random.rand(10,3),columns=['A','B','C'])"
   ]
  },
  {
   "cell_type": "code",
   "execution_count": 63,
   "id": "6499b2f6",
   "metadata": {},
   "outputs": [
    {
     "data": {
      "text/html": [
       "<div>\n",
       "<style scoped>\n",
       "    .dataframe tbody tr th:only-of-type {\n",
       "        vertical-align: middle;\n",
       "    }\n",
       "\n",
       "    .dataframe tbody tr th {\n",
       "        vertical-align: top;\n",
       "    }\n",
       "\n",
       "    .dataframe thead th {\n",
       "        text-align: right;\n",
       "    }\n",
       "</style>\n",
       "<table border=\"1\" class=\"dataframe\">\n",
       "  <thead>\n",
       "    <tr style=\"text-align: right;\">\n",
       "      <th></th>\n",
       "      <th>A</th>\n",
       "      <th>B</th>\n",
       "      <th>C</th>\n",
       "    </tr>\n",
       "  </thead>\n",
       "  <tbody>\n",
       "    <tr>\n",
       "      <th>0</th>\n",
       "      <td>0.526882</td>\n",
       "      <td>0.643223</td>\n",
       "      <td>0.769715</td>\n",
       "    </tr>\n",
       "    <tr>\n",
       "      <th>1</th>\n",
       "      <td>0.494904</td>\n",
       "      <td>0.267444</td>\n",
       "      <td>0.770471</td>\n",
       "    </tr>\n",
       "    <tr>\n",
       "      <th>2</th>\n",
       "      <td>0.461167</td>\n",
       "      <td>0.900341</td>\n",
       "      <td>0.794764</td>\n",
       "    </tr>\n",
       "    <tr>\n",
       "      <th>3</th>\n",
       "      <td>0.933751</td>\n",
       "      <td>0.780975</td>\n",
       "      <td>0.385397</td>\n",
       "    </tr>\n",
       "    <tr>\n",
       "      <th>4</th>\n",
       "      <td>0.607667</td>\n",
       "      <td>0.178566</td>\n",
       "      <td>0.036935</td>\n",
       "    </tr>\n",
       "    <tr>\n",
       "      <th>5</th>\n",
       "      <td>0.064984</td>\n",
       "      <td>0.635245</td>\n",
       "      <td>0.958946</td>\n",
       "    </tr>\n",
       "    <tr>\n",
       "      <th>6</th>\n",
       "      <td>0.845307</td>\n",
       "      <td>0.967126</td>\n",
       "      <td>0.109525</td>\n",
       "    </tr>\n",
       "    <tr>\n",
       "      <th>7</th>\n",
       "      <td>0.770117</td>\n",
       "      <td>0.313642</td>\n",
       "      <td>0.147753</td>\n",
       "    </tr>\n",
       "    <tr>\n",
       "      <th>8</th>\n",
       "      <td>0.437407</td>\n",
       "      <td>0.137462</td>\n",
       "      <td>0.429987</td>\n",
       "    </tr>\n",
       "    <tr>\n",
       "      <th>9</th>\n",
       "      <td>0.294633</td>\n",
       "      <td>0.045905</td>\n",
       "      <td>0.854681</td>\n",
       "    </tr>\n",
       "  </tbody>\n",
       "</table>\n",
       "</div>"
      ],
      "text/plain": [
       "          A         B         C\n",
       "0  0.526882  0.643223  0.769715\n",
       "1  0.494904  0.267444  0.770471\n",
       "2  0.461167  0.900341  0.794764\n",
       "3  0.933751  0.780975  0.385397\n",
       "4  0.607667  0.178566  0.036935\n",
       "5  0.064984  0.635245  0.958946\n",
       "6  0.845307  0.967126  0.109525\n",
       "7  0.770117  0.313642  0.147753\n",
       "8  0.437407  0.137462  0.429987\n",
       "9  0.294633  0.045905  0.854681"
      ]
     },
     "execution_count": 63,
     "metadata": {},
     "output_type": "execute_result"
    }
   ],
   "source": [
    "df"
   ]
  },
  {
   "cell_type": "code",
   "execution_count": 65,
   "id": "07e69b54",
   "metadata": {},
   "outputs": [
    {
     "data": {
      "text/plain": [
       "A    float64\n",
       "B    float64\n",
       "C    float64\n",
       "dtype: object"
      ]
     },
     "execution_count": 65,
     "metadata": {},
     "output_type": "execute_result"
    }
   ],
   "source": [
    "df.dtypes## to get the data type of each objects"
   ]
  },
  {
   "cell_type": "code",
   "execution_count": 66,
   "id": "c5c4c680",
   "metadata": {},
   "outputs": [
    {
     "data": {
      "text/plain": [
       "Index(['A', 'B', 'C'], dtype='object')"
      ]
     },
     "execution_count": 66,
     "metadata": {},
     "output_type": "execute_result"
    }
   ],
   "source": [
    "df.columns##to get column names"
   ]
  },
  {
   "cell_type": "code",
   "execution_count": 67,
   "id": "f1fe17e6",
   "metadata": {},
   "outputs": [
    {
     "data": {
      "text/plain": [
       "array([[0.52688206, 0.64322338, 0.76971537],\n",
       "       [0.49490392, 0.26744408, 0.7704712 ],\n",
       "       [0.461167  , 0.90034083, 0.79476398],\n",
       "       [0.93375088, 0.78097494, 0.38539709],\n",
       "       [0.60766741, 0.17856601, 0.03693454],\n",
       "       [0.06498405, 0.63524541, 0.95894571],\n",
       "       [0.84530681, 0.96712595, 0.10952498],\n",
       "       [0.77011665, 0.31364203, 0.14775277],\n",
       "       [0.43740731, 0.13746241, 0.42998735],\n",
       "       [0.29463333, 0.04590461, 0.85468124]])"
      ]
     },
     "execution_count": 67,
     "metadata": {},
     "output_type": "execute_result"
    }
   ],
   "source": [
    "df.values##to print the values\n"
   ]
  },
  {
   "cell_type": "code",
   "execution_count": 68,
   "id": "cb37eb9d",
   "metadata": {},
   "outputs": [
    {
     "data": {
      "text/html": [
       "<div>\n",
       "<style scoped>\n",
       "    .dataframe tbody tr th:only-of-type {\n",
       "        vertical-align: middle;\n",
       "    }\n",
       "\n",
       "    .dataframe tbody tr th {\n",
       "        vertical-align: top;\n",
       "    }\n",
       "\n",
       "    .dataframe thead th {\n",
       "        text-align: right;\n",
       "    }\n",
       "</style>\n",
       "<table border=\"1\" class=\"dataframe\">\n",
       "  <thead>\n",
       "    <tr style=\"text-align: right;\">\n",
       "      <th></th>\n",
       "      <th>A</th>\n",
       "      <th>B</th>\n",
       "      <th>C</th>\n",
       "    </tr>\n",
       "  </thead>\n",
       "  <tbody>\n",
       "    <tr>\n",
       "      <th>count</th>\n",
       "      <td>10.000000</td>\n",
       "      <td>10.000000</td>\n",
       "      <td>10.000000</td>\n",
       "    </tr>\n",
       "    <tr>\n",
       "      <th>mean</th>\n",
       "      <td>0.543682</td>\n",
       "      <td>0.486993</td>\n",
       "      <td>0.525817</td>\n",
       "    </tr>\n",
       "    <tr>\n",
       "      <th>std</th>\n",
       "      <td>0.260435</td>\n",
       "      <td>0.337360</td>\n",
       "      <td>0.345055</td>\n",
       "    </tr>\n",
       "    <tr>\n",
       "      <th>min</th>\n",
       "      <td>0.064984</td>\n",
       "      <td>0.045905</td>\n",
       "      <td>0.036935</td>\n",
       "    </tr>\n",
       "    <tr>\n",
       "      <th>25%</th>\n",
       "      <td>0.443347</td>\n",
       "      <td>0.200786</td>\n",
       "      <td>0.207164</td>\n",
       "    </tr>\n",
       "    <tr>\n",
       "      <th>50%</th>\n",
       "      <td>0.510893</td>\n",
       "      <td>0.474444</td>\n",
       "      <td>0.599851</td>\n",
       "    </tr>\n",
       "    <tr>\n",
       "      <th>75%</th>\n",
       "      <td>0.729504</td>\n",
       "      <td>0.746537</td>\n",
       "      <td>0.788691</td>\n",
       "    </tr>\n",
       "    <tr>\n",
       "      <th>max</th>\n",
       "      <td>0.933751</td>\n",
       "      <td>0.967126</td>\n",
       "      <td>0.958946</td>\n",
       "    </tr>\n",
       "  </tbody>\n",
       "</table>\n",
       "</div>"
      ],
      "text/plain": [
       "               A          B          C\n",
       "count  10.000000  10.000000  10.000000\n",
       "mean    0.543682   0.486993   0.525817\n",
       "std     0.260435   0.337360   0.345055\n",
       "min     0.064984   0.045905   0.036935\n",
       "25%     0.443347   0.200786   0.207164\n",
       "50%     0.510893   0.474444   0.599851\n",
       "75%     0.729504   0.746537   0.788691\n",
       "max     0.933751   0.967126   0.958946"
      ]
     },
     "execution_count": 68,
     "metadata": {},
     "output_type": "execute_result"
    }
   ],
   "source": [
    "df.describe()##short discription of  an datafarme"
   ]
  },
  {
   "cell_type": "code",
   "execution_count": 72,
   "id": "f998f25f",
   "metadata": {},
   "outputs": [
    {
     "data": {
      "text/html": [
       "<div>\n",
       "<style scoped>\n",
       "    .dataframe tbody tr th:only-of-type {\n",
       "        vertical-align: middle;\n",
       "    }\n",
       "\n",
       "    .dataframe tbody tr th {\n",
       "        vertical-align: top;\n",
       "    }\n",
       "\n",
       "    .dataframe thead th {\n",
       "        text-align: right;\n",
       "    }\n",
       "</style>\n",
       "<table border=\"1\" class=\"dataframe\">\n",
       "  <thead>\n",
       "    <tr style=\"text-align: right;\">\n",
       "      <th></th>\n",
       "      <th>A</th>\n",
       "      <th>B</th>\n",
       "      <th>C</th>\n",
       "    </tr>\n",
       "  </thead>\n",
       "  <tbody>\n",
       "    <tr>\n",
       "      <th>5</th>\n",
       "      <td>0.064984</td>\n",
       "      <td>0.635245</td>\n",
       "      <td>0.958946</td>\n",
       "    </tr>\n",
       "    <tr>\n",
       "      <th>9</th>\n",
       "      <td>0.294633</td>\n",
       "      <td>0.045905</td>\n",
       "      <td>0.854681</td>\n",
       "    </tr>\n",
       "    <tr>\n",
       "      <th>8</th>\n",
       "      <td>0.437407</td>\n",
       "      <td>0.137462</td>\n",
       "      <td>0.429987</td>\n",
       "    </tr>\n",
       "    <tr>\n",
       "      <th>2</th>\n",
       "      <td>0.461167</td>\n",
       "      <td>0.900341</td>\n",
       "      <td>0.794764</td>\n",
       "    </tr>\n",
       "    <tr>\n",
       "      <th>1</th>\n",
       "      <td>0.494904</td>\n",
       "      <td>0.267444</td>\n",
       "      <td>0.770471</td>\n",
       "    </tr>\n",
       "    <tr>\n",
       "      <th>0</th>\n",
       "      <td>0.526882</td>\n",
       "      <td>0.643223</td>\n",
       "      <td>0.769715</td>\n",
       "    </tr>\n",
       "    <tr>\n",
       "      <th>4</th>\n",
       "      <td>0.607667</td>\n",
       "      <td>0.178566</td>\n",
       "      <td>0.036935</td>\n",
       "    </tr>\n",
       "    <tr>\n",
       "      <th>7</th>\n",
       "      <td>0.770117</td>\n",
       "      <td>0.313642</td>\n",
       "      <td>0.147753</td>\n",
       "    </tr>\n",
       "    <tr>\n",
       "      <th>6</th>\n",
       "      <td>0.845307</td>\n",
       "      <td>0.967126</td>\n",
       "      <td>0.109525</td>\n",
       "    </tr>\n",
       "    <tr>\n",
       "      <th>3</th>\n",
       "      <td>0.933751</td>\n",
       "      <td>0.780975</td>\n",
       "      <td>0.385397</td>\n",
       "    </tr>\n",
       "  </tbody>\n",
       "</table>\n",
       "</div>"
      ],
      "text/plain": [
       "          A         B         C\n",
       "5  0.064984  0.635245  0.958946\n",
       "9  0.294633  0.045905  0.854681\n",
       "8  0.437407  0.137462  0.429987\n",
       "2  0.461167  0.900341  0.794764\n",
       "1  0.494904  0.267444  0.770471\n",
       "0  0.526882  0.643223  0.769715\n",
       "4  0.607667  0.178566  0.036935\n",
       "7  0.770117  0.313642  0.147753\n",
       "6  0.845307  0.967126  0.109525\n",
       "3  0.933751  0.780975  0.385397"
      ]
     },
     "execution_count": 72,
     "metadata": {},
     "output_type": "execute_result"
    }
   ],
   "source": [
    "df.sort_values(by='A')"
   ]
  },
  {
   "cell_type": "code",
   "execution_count": 74,
   "id": "3d4be0f3",
   "metadata": {},
   "outputs": [
    {
     "data": {
      "text/html": [
       "<div>\n",
       "<style scoped>\n",
       "    .dataframe tbody tr th:only-of-type {\n",
       "        vertical-align: middle;\n",
       "    }\n",
       "\n",
       "    .dataframe tbody tr th {\n",
       "        vertical-align: top;\n",
       "    }\n",
       "\n",
       "    .dataframe thead th {\n",
       "        text-align: right;\n",
       "    }\n",
       "</style>\n",
       "<table border=\"1\" class=\"dataframe\">\n",
       "  <thead>\n",
       "    <tr style=\"text-align: right;\">\n",
       "      <th></th>\n",
       "      <th>A</th>\n",
       "      <th>B</th>\n",
       "      <th>C</th>\n",
       "    </tr>\n",
       "  </thead>\n",
       "  <tbody>\n",
       "    <tr>\n",
       "      <th>9</th>\n",
       "      <td>0.294633</td>\n",
       "      <td>0.045905</td>\n",
       "      <td>0.854681</td>\n",
       "    </tr>\n",
       "    <tr>\n",
       "      <th>8</th>\n",
       "      <td>0.437407</td>\n",
       "      <td>0.137462</td>\n",
       "      <td>0.429987</td>\n",
       "    </tr>\n",
       "    <tr>\n",
       "      <th>7</th>\n",
       "      <td>0.770117</td>\n",
       "      <td>0.313642</td>\n",
       "      <td>0.147753</td>\n",
       "    </tr>\n",
       "    <tr>\n",
       "      <th>6</th>\n",
       "      <td>0.845307</td>\n",
       "      <td>0.967126</td>\n",
       "      <td>0.109525</td>\n",
       "    </tr>\n",
       "    <tr>\n",
       "      <th>5</th>\n",
       "      <td>0.064984</td>\n",
       "      <td>0.635245</td>\n",
       "      <td>0.958946</td>\n",
       "    </tr>\n",
       "    <tr>\n",
       "      <th>4</th>\n",
       "      <td>0.607667</td>\n",
       "      <td>0.178566</td>\n",
       "      <td>0.036935</td>\n",
       "    </tr>\n",
       "    <tr>\n",
       "      <th>3</th>\n",
       "      <td>0.933751</td>\n",
       "      <td>0.780975</td>\n",
       "      <td>0.385397</td>\n",
       "    </tr>\n",
       "    <tr>\n",
       "      <th>2</th>\n",
       "      <td>0.461167</td>\n",
       "      <td>0.900341</td>\n",
       "      <td>0.794764</td>\n",
       "    </tr>\n",
       "    <tr>\n",
       "      <th>1</th>\n",
       "      <td>0.494904</td>\n",
       "      <td>0.267444</td>\n",
       "      <td>0.770471</td>\n",
       "    </tr>\n",
       "    <tr>\n",
       "      <th>0</th>\n",
       "      <td>0.526882</td>\n",
       "      <td>0.643223</td>\n",
       "      <td>0.769715</td>\n",
       "    </tr>\n",
       "  </tbody>\n",
       "</table>\n",
       "</div>"
      ],
      "text/plain": [
       "          A         B         C\n",
       "9  0.294633  0.045905  0.854681\n",
       "8  0.437407  0.137462  0.429987\n",
       "7  0.770117  0.313642  0.147753\n",
       "6  0.845307  0.967126  0.109525\n",
       "5  0.064984  0.635245  0.958946\n",
       "4  0.607667  0.178566  0.036935\n",
       "3  0.933751  0.780975  0.385397\n",
       "2  0.461167  0.900341  0.794764\n",
       "1  0.494904  0.267444  0.770471\n",
       "0  0.526882  0.643223  0.769715"
      ]
     },
     "execution_count": 74,
     "metadata": {},
     "output_type": "execute_result"
    }
   ],
   "source": [
    "df.sort_index(axis=0,ascending=False)## axis gives horizontal or vertical sorting---- and ascending or descending"
   ]
  },
  {
   "cell_type": "code",
   "execution_count": 75,
   "id": "aa6af01d",
   "metadata": {},
   "outputs": [
    {
     "data": {
      "text/html": [
       "<div>\n",
       "<style scoped>\n",
       "    .dataframe tbody tr th:only-of-type {\n",
       "        vertical-align: middle;\n",
       "    }\n",
       "\n",
       "    .dataframe tbody tr th {\n",
       "        vertical-align: top;\n",
       "    }\n",
       "\n",
       "    .dataframe thead th {\n",
       "        text-align: right;\n",
       "    }\n",
       "</style>\n",
       "<table border=\"1\" class=\"dataframe\">\n",
       "  <thead>\n",
       "    <tr style=\"text-align: right;\">\n",
       "      <th></th>\n",
       "      <th>A</th>\n",
       "      <th>B</th>\n",
       "      <th>C</th>\n",
       "    </tr>\n",
       "  </thead>\n",
       "  <tbody>\n",
       "    <tr>\n",
       "      <th>0</th>\n",
       "      <td>0.526882</td>\n",
       "      <td>0.643223</td>\n",
       "      <td>0.769715</td>\n",
       "    </tr>\n",
       "    <tr>\n",
       "      <th>1</th>\n",
       "      <td>0.494904</td>\n",
       "      <td>0.267444</td>\n",
       "      <td>0.770471</td>\n",
       "    </tr>\n",
       "    <tr>\n",
       "      <th>2</th>\n",
       "      <td>0.461167</td>\n",
       "      <td>0.900341</td>\n",
       "      <td>0.794764</td>\n",
       "    </tr>\n",
       "    <tr>\n",
       "      <th>3</th>\n",
       "      <td>0.933751</td>\n",
       "      <td>0.780975</td>\n",
       "      <td>0.385397</td>\n",
       "    </tr>\n",
       "    <tr>\n",
       "      <th>4</th>\n",
       "      <td>0.607667</td>\n",
       "      <td>0.178566</td>\n",
       "      <td>0.036935</td>\n",
       "    </tr>\n",
       "    <tr>\n",
       "      <th>5</th>\n",
       "      <td>0.064984</td>\n",
       "      <td>0.635245</td>\n",
       "      <td>0.958946</td>\n",
       "    </tr>\n",
       "    <tr>\n",
       "      <th>6</th>\n",
       "      <td>0.845307</td>\n",
       "      <td>0.967126</td>\n",
       "      <td>0.109525</td>\n",
       "    </tr>\n",
       "    <tr>\n",
       "      <th>7</th>\n",
       "      <td>0.770117</td>\n",
       "      <td>0.313642</td>\n",
       "      <td>0.147753</td>\n",
       "    </tr>\n",
       "    <tr>\n",
       "      <th>8</th>\n",
       "      <td>0.437407</td>\n",
       "      <td>0.137462</td>\n",
       "      <td>0.429987</td>\n",
       "    </tr>\n",
       "    <tr>\n",
       "      <th>9</th>\n",
       "      <td>0.294633</td>\n",
       "      <td>0.045905</td>\n",
       "      <td>0.854681</td>\n",
       "    </tr>\n",
       "  </tbody>\n",
       "</table>\n",
       "</div>"
      ],
      "text/plain": [
       "          A         B         C\n",
       "0  0.526882  0.643223  0.769715\n",
       "1  0.494904  0.267444  0.770471\n",
       "2  0.461167  0.900341  0.794764\n",
       "3  0.933751  0.780975  0.385397\n",
       "4  0.607667  0.178566  0.036935\n",
       "5  0.064984  0.635245  0.958946\n",
       "6  0.845307  0.967126  0.109525\n",
       "7  0.770117  0.313642  0.147753\n",
       "8  0.437407  0.137462  0.429987\n",
       "9  0.294633  0.045905  0.854681"
      ]
     },
     "execution_count": 75,
     "metadata": {},
     "output_type": "execute_result"
    }
   ],
   "source": [
    "df.sort_index(axis=0,ascending=True)"
   ]
  },
  {
   "cell_type": "code",
   "execution_count": 76,
   "id": "5a697e6e",
   "metadata": {},
   "outputs": [
    {
     "data": {
      "text/html": [
       "<div>\n",
       "<style scoped>\n",
       "    .dataframe tbody tr th:only-of-type {\n",
       "        vertical-align: middle;\n",
       "    }\n",
       "\n",
       "    .dataframe tbody tr th {\n",
       "        vertical-align: top;\n",
       "    }\n",
       "\n",
       "    .dataframe thead th {\n",
       "        text-align: right;\n",
       "    }\n",
       "</style>\n",
       "<table border=\"1\" class=\"dataframe\">\n",
       "  <thead>\n",
       "    <tr style=\"text-align: right;\">\n",
       "      <th></th>\n",
       "      <th>C</th>\n",
       "      <th>B</th>\n",
       "      <th>A</th>\n",
       "    </tr>\n",
       "  </thead>\n",
       "  <tbody>\n",
       "    <tr>\n",
       "      <th>0</th>\n",
       "      <td>0.769715</td>\n",
       "      <td>0.643223</td>\n",
       "      <td>0.526882</td>\n",
       "    </tr>\n",
       "    <tr>\n",
       "      <th>1</th>\n",
       "      <td>0.770471</td>\n",
       "      <td>0.267444</td>\n",
       "      <td>0.494904</td>\n",
       "    </tr>\n",
       "    <tr>\n",
       "      <th>2</th>\n",
       "      <td>0.794764</td>\n",
       "      <td>0.900341</td>\n",
       "      <td>0.461167</td>\n",
       "    </tr>\n",
       "    <tr>\n",
       "      <th>3</th>\n",
       "      <td>0.385397</td>\n",
       "      <td>0.780975</td>\n",
       "      <td>0.933751</td>\n",
       "    </tr>\n",
       "    <tr>\n",
       "      <th>4</th>\n",
       "      <td>0.036935</td>\n",
       "      <td>0.178566</td>\n",
       "      <td>0.607667</td>\n",
       "    </tr>\n",
       "    <tr>\n",
       "      <th>5</th>\n",
       "      <td>0.958946</td>\n",
       "      <td>0.635245</td>\n",
       "      <td>0.064984</td>\n",
       "    </tr>\n",
       "    <tr>\n",
       "      <th>6</th>\n",
       "      <td>0.109525</td>\n",
       "      <td>0.967126</td>\n",
       "      <td>0.845307</td>\n",
       "    </tr>\n",
       "    <tr>\n",
       "      <th>7</th>\n",
       "      <td>0.147753</td>\n",
       "      <td>0.313642</td>\n",
       "      <td>0.770117</td>\n",
       "    </tr>\n",
       "    <tr>\n",
       "      <th>8</th>\n",
       "      <td>0.429987</td>\n",
       "      <td>0.137462</td>\n",
       "      <td>0.437407</td>\n",
       "    </tr>\n",
       "    <tr>\n",
       "      <th>9</th>\n",
       "      <td>0.854681</td>\n",
       "      <td>0.045905</td>\n",
       "      <td>0.294633</td>\n",
       "    </tr>\n",
       "  </tbody>\n",
       "</table>\n",
       "</div>"
      ],
      "text/plain": [
       "          C         B         A\n",
       "0  0.769715  0.643223  0.526882\n",
       "1  0.770471  0.267444  0.494904\n",
       "2  0.794764  0.900341  0.461167\n",
       "3  0.385397  0.780975  0.933751\n",
       "4  0.036935  0.178566  0.607667\n",
       "5  0.958946  0.635245  0.064984\n",
       "6  0.109525  0.967126  0.845307\n",
       "7  0.147753  0.313642  0.770117\n",
       "8  0.429987  0.137462  0.437407\n",
       "9  0.854681  0.045905  0.294633"
      ]
     },
     "execution_count": 76,
     "metadata": {},
     "output_type": "execute_result"
    }
   ],
   "source": [
    "df.sort_index(axis=1,ascending=False)"
   ]
  },
  {
   "cell_type": "code",
   "execution_count": 77,
   "id": "1077047c",
   "metadata": {},
   "outputs": [
    {
     "data": {
      "text/html": [
       "<div>\n",
       "<style scoped>\n",
       "    .dataframe tbody tr th:only-of-type {\n",
       "        vertical-align: middle;\n",
       "    }\n",
       "\n",
       "    .dataframe tbody tr th {\n",
       "        vertical-align: top;\n",
       "    }\n",
       "\n",
       "    .dataframe thead th {\n",
       "        text-align: right;\n",
       "    }\n",
       "</style>\n",
       "<table border=\"1\" class=\"dataframe\">\n",
       "  <thead>\n",
       "    <tr style=\"text-align: right;\">\n",
       "      <th></th>\n",
       "      <th>A</th>\n",
       "      <th>B</th>\n",
       "      <th>C</th>\n",
       "    </tr>\n",
       "  </thead>\n",
       "  <tbody>\n",
       "    <tr>\n",
       "      <th>0</th>\n",
       "      <td>0.526882</td>\n",
       "      <td>0.643223</td>\n",
       "      <td>0.769715</td>\n",
       "    </tr>\n",
       "    <tr>\n",
       "      <th>1</th>\n",
       "      <td>0.494904</td>\n",
       "      <td>0.267444</td>\n",
       "      <td>0.770471</td>\n",
       "    </tr>\n",
       "    <tr>\n",
       "      <th>2</th>\n",
       "      <td>0.461167</td>\n",
       "      <td>0.900341</td>\n",
       "      <td>0.794764</td>\n",
       "    </tr>\n",
       "    <tr>\n",
       "      <th>3</th>\n",
       "      <td>0.933751</td>\n",
       "      <td>0.780975</td>\n",
       "      <td>0.385397</td>\n",
       "    </tr>\n",
       "    <tr>\n",
       "      <th>4</th>\n",
       "      <td>0.607667</td>\n",
       "      <td>0.178566</td>\n",
       "      <td>0.036935</td>\n",
       "    </tr>\n",
       "    <tr>\n",
       "      <th>5</th>\n",
       "      <td>0.064984</td>\n",
       "      <td>0.635245</td>\n",
       "      <td>0.958946</td>\n",
       "    </tr>\n",
       "    <tr>\n",
       "      <th>6</th>\n",
       "      <td>0.845307</td>\n",
       "      <td>0.967126</td>\n",
       "      <td>0.109525</td>\n",
       "    </tr>\n",
       "    <tr>\n",
       "      <th>7</th>\n",
       "      <td>0.770117</td>\n",
       "      <td>0.313642</td>\n",
       "      <td>0.147753</td>\n",
       "    </tr>\n",
       "    <tr>\n",
       "      <th>8</th>\n",
       "      <td>0.437407</td>\n",
       "      <td>0.137462</td>\n",
       "      <td>0.429987</td>\n",
       "    </tr>\n",
       "    <tr>\n",
       "      <th>9</th>\n",
       "      <td>0.294633</td>\n",
       "      <td>0.045905</td>\n",
       "      <td>0.854681</td>\n",
       "    </tr>\n",
       "  </tbody>\n",
       "</table>\n",
       "</div>"
      ],
      "text/plain": [
       "          A         B         C\n",
       "0  0.526882  0.643223  0.769715\n",
       "1  0.494904  0.267444  0.770471\n",
       "2  0.461167  0.900341  0.794764\n",
       "3  0.933751  0.780975  0.385397\n",
       "4  0.607667  0.178566  0.036935\n",
       "5  0.064984  0.635245  0.958946\n",
       "6  0.845307  0.967126  0.109525\n",
       "7  0.770117  0.313642  0.147753\n",
       "8  0.437407  0.137462  0.429987\n",
       "9  0.294633  0.045905  0.854681"
      ]
     },
     "execution_count": 77,
     "metadata": {},
     "output_type": "execute_result"
    }
   ],
   "source": [
    "df.sort_index(axis=1,ascending=True)"
   ]
  },
  {
   "cell_type": "code",
   "execution_count": null,
   "id": "bd905572",
   "metadata": {},
   "outputs": [],
   "source": []
  }
 ],
 "metadata": {
  "kernelspec": {
   "display_name": "Python 3 (ipykernel)",
   "language": "python",
   "name": "python3"
  },
  "language_info": {
   "codemirror_mode": {
    "name": "ipython",
    "version": 3
   },
   "file_extension": ".py",
   "mimetype": "text/x-python",
   "name": "python",
   "nbconvert_exporter": "python",
   "pygments_lexer": "ipython3",
   "version": "3.9.12"
  }
 },
 "nbformat": 4,
 "nbformat_minor": 5
}
